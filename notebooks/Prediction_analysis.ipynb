{
 "cells": [
  {
   "cell_type": "code",
   "execution_count": 1,
   "id": "dde74f4f",
   "metadata": {},
   "outputs": [
    {
     "name": "stdout",
     "output_type": "stream",
     "text": [
      "Earth Engine initialized.\n"
     ]
    }
   ],
   "source": [
    "import ee\n",
    "ee.Initialize(project=\"ee-officialsatbir23\") \n",
    "print(\"Earth Engine initialized.\")"
   ]
  },
  {
   "cell_type": "markdown",
   "id": "a005a116",
   "metadata": {},
   "source": [
    "*IMPORT ALL IMPORT FUNCTIONS*"
   ]
  },
  {
   "cell_type": "code",
   "execution_count": 3,
   "id": "75f2d7f4",
   "metadata": {},
   "outputs": [],
   "source": [
    "import importlib.util\n",
    "import sys\n",
    "\n",
    "module_path = r\"E:\\D-Drive\\DW_intern_SATBIR\\src\\DW_prediction.py\"\n",
    "module_name = \"DW_prediction\"\n",
    "\n",
    "spec = importlib.util.spec_from_file_location(module_name, module_path)\n",
    "DW_prediction = importlib.util.module_from_spec(spec)\n",
    "sys.modules[module_name] = DW_prediction\n",
    "spec.loader.exec_module(DW_prediction)"
   ]
  },
  {
   "cell_type": "markdown",
   "id": "c63208e9",
   "metadata": {},
   "source": [
    "*GET THREE DIFFERENT IMAGES WITH 6 BANDS WITH +-2 WEEK(MONTH) , +-3 MONTHS(6MONTHS) , +-6MONTHS(YEAR)*"
   ]
  },
  {
   "cell_type": "code",
   "execution_count": null,
   "id": "b663ebd9",
   "metadata": {},
   "outputs": [],
   "source": [
    "CONSENSUS_SHP = 'projects/ee-officialsatbir23/assets/dw_validation_tile-20250705T134654Z-1-001' \n",
    "project_name = 'ee-officialsatbir23'\n",
    "CONSENSUS_DATE = '2018-12-26'\n",
    "export_folder_name = 'DW_prediction_exports'\n",
    "\n",
    "DW_prediction.run_export_dw_summary_from_consensus(CONSENSUS_SHP, project_name, CONSENSUS_DATE, export_folder_name)\n"
   ]
  },
  {
   "cell_type": "markdown",
   "id": "fddd688b",
   "metadata": {},
   "source": [
    "*ALLIGN THE DW-IMAGE WITH THE CRS AND META-DATA OF CONSENSUS IMAGE*"
   ]
  },
  {
   "cell_type": "code",
   "execution_count": null,
   "id": "c1aa2082",
   "metadata": {},
   "outputs": [],
   "source": [
    "dw_path = 'E:/D-Drive/DW_intern_SATBIR/DW/DW_6months_summary.tif'\n",
    "consensus_path = 'E:/D-Drive/DW_intern_SATBIR/DW/dw_7.0867379523_4.8051119857-20181226_consensus.tif'\n",
    "\n",
    "aligned_dw_path = DW_prediction.align_dw_prediction_to_consensus(dw_path, consensus_path) \n"
   ]
  },
  {
   "cell_type": "markdown",
   "id": "2c97af98",
   "metadata": {},
   "source": [
    "*ADD CONSENSUS IMAGE BAND AS NEW BAND TO THE DW-IMAGE*"
   ]
  },
  {
   "cell_type": "code",
   "execution_count": null,
   "id": "c00432e2",
   "metadata": {},
   "outputs": [],
   "source": [
    "stacked_path = DW_prediction.stack_dw_with_consensus(aligned_dw_path, consensus_path)"
   ]
  },
  {
   "cell_type": "markdown",
   "id": "60126656",
   "metadata": {},
   "source": [
    "*GENERATE CLASSIFICATION MATRIX WITH PRECISION AND RECALL FOR ALL CLASSES*"
   ]
  },
  {
   "cell_type": "code",
   "execution_count": null,
   "id": "37980cca",
   "metadata": {},
   "outputs": [],
   "source": [
    "DW_prediction.generate_classification_report(stacked_path)"
   ]
  }
 ],
 "metadata": {
  "kernelspec": {
   "display_name": "dynamic",
   "language": "python",
   "name": "python3"
  },
  "language_info": {
   "codemirror_mode": {
    "name": "ipython",
    "version": 3
   },
   "file_extension": ".py",
   "mimetype": "text/x-python",
   "name": "python",
   "nbconvert_exporter": "python",
   "pygments_lexer": "ipython3",
   "version": "3.11.2"
  }
 },
 "nbformat": 4,
 "nbformat_minor": 5
}
